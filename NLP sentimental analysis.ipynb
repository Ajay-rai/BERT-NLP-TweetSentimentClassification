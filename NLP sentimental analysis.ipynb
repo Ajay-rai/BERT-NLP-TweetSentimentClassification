{
 "cells": [
  {
   "cell_type": "markdown",
   "id": "6d4a5cb1",
   "metadata": {},
   "source": [
    "# Objective\n",
    "To determine sentimental behaviour of people towards 'work from home' by analyzing tweets(#wfh). "
   ]
  },
  {
   "cell_type": "code",
   "execution_count": 1,
   "id": "53932491",
   "metadata": {},
   "outputs": [],
   "source": [
    "import pandas as pd\n",
    "import warnings\n",
    "\n",
    "warnings.filterwarnings(\"ignore\")"
   ]
  },
  {
   "cell_type": "markdown",
   "id": "da91a36c",
   "metadata": {},
   "source": [
    "# Resources\n",
    "1. https://github.com/debnsuma/Intro-Transformer-BERT/blob/main/BERT-Disaster-Tweets-Prediction.ipynb\n",
    "2. https://github.com/Rohan2002/BERT-natural-disaster-tweet-prediction/tree/master/lib\n",
    "3. https://python.plainenglish.io/scraping-tweets-using-snscrape-and-building-sentiment-classifier-13811dadd11d"
   ]
  },
  {
   "cell_type": "code",
   "execution_count": 2,
   "id": "bd6f30dd",
   "metadata": {},
   "outputs": [],
   "source": [
    "df = pd.read_csv('tweets.csv') #loading data"
   ]
  },
  {
   "cell_type": "code",
   "execution_count": 3,
   "id": "0bfb3d05",
   "metadata": {},
   "outputs": [],
   "source": [
    "pd.set_option('display.max_colwidth', None) #display coumn width to maximum to read complete tweets"
   ]
  },
  {
   "cell_type": "code",
   "execution_count": 4,
   "id": "73888988",
   "metadata": {},
   "outputs": [
    {
     "data": {
      "text/plain": [
       "Index(['url', 'date', 'content', 'renderedContent', 'id', 'user', 'replyCount',\n",
       "       'retweetCount', 'likeCount', 'quoteCount', 'conversationId', 'lang',\n",
       "       'source', 'sourceUrl', 'sourceLabel', 'outlinks', 'tcooutlinks',\n",
       "       'media', 'retweetedTweet', 'quotedTweet', 'inReplyToTweetId',\n",
       "       'inReplyToUser', 'mentionedUsers', 'coordinates', 'place', 'hashtags',\n",
       "       'cashtags'],\n",
       "      dtype='object')"
      ]
     },
     "execution_count": 4,
     "metadata": {},
     "output_type": "execute_result"
    }
   ],
   "source": [
    "df.columns"
   ]
  },
  {
   "cell_type": "markdown",
   "id": "2634f06a",
   "metadata": {},
   "source": [
    "The raw data has 27 column. However I need only 'date', 'content' and 'hastags' columns."
   ]
  },
  {
   "cell_type": "code",
   "execution_count": 5,
   "id": "80a8b9d7",
   "metadata": {},
   "outputs": [
    {
     "data": {
      "text/html": [
       "<div>\n",
       "<style scoped>\n",
       "    .dataframe tbody tr th:only-of-type {\n",
       "        vertical-align: middle;\n",
       "    }\n",
       "\n",
       "    .dataframe tbody tr th {\n",
       "        vertical-align: top;\n",
       "    }\n",
       "\n",
       "    .dataframe thead th {\n",
       "        text-align: right;\n",
       "    }\n",
       "</style>\n",
       "<table border=\"1\" class=\"dataframe\">\n",
       "  <thead>\n",
       "    <tr style=\"text-align: right;\">\n",
       "      <th></th>\n",
       "      <th>url</th>\n",
       "      <th>date</th>\n",
       "      <th>content</th>\n",
       "      <th>renderedContent</th>\n",
       "      <th>id</th>\n",
       "      <th>user</th>\n",
       "      <th>replyCount</th>\n",
       "      <th>retweetCount</th>\n",
       "      <th>likeCount</th>\n",
       "      <th>quoteCount</th>\n",
       "      <th>...</th>\n",
       "      <th>media</th>\n",
       "      <th>retweetedTweet</th>\n",
       "      <th>quotedTweet</th>\n",
       "      <th>inReplyToTweetId</th>\n",
       "      <th>inReplyToUser</th>\n",
       "      <th>mentionedUsers</th>\n",
       "      <th>coordinates</th>\n",
       "      <th>place</th>\n",
       "      <th>hashtags</th>\n",
       "      <th>cashtags</th>\n",
       "    </tr>\n",
       "  </thead>\n",
       "  <tbody>\n",
       "    <tr>\n",
       "      <th>0</th>\n",
       "      <td>https://twitter.com/powertectelecom/status/1423522770596417536</td>\n",
       "      <td>2021-08-06 05:54:10+00:00</td>\n",
       "      <td>Powertec is here to help guide and advise you on recommended Wi-Fi connectivity solutions for students studying at home. https://t.co/Aj6tmMJ44V\\n\\n#workingfromhome #WFH #homeoffice #homeschooling #COVID #lockdown2021 #studyfromhome #homeschooling https://t.co/g2NAmG7YmG</td>\n",
       "      <td>Powertec is here to help guide and advise you on recommended Wi-Fi connectivity solutions for students studying at home. t.ly/1LL4\\n\\n#workingfromhome #WFH #homeoffice #homeschooling #COVID #lockdown2021 #studyfromhome #homeschooling https://t.co/g2NAmG7YmG</td>\n",
       "      <td>1423522770596417536</td>\n",
       "      <td>{'username': 'powertectelecom', 'id': 160805245, 'displayname': 'Powertec Wireless Technology', 'description': 'Your connectivity experts, pioneering in the field of carrier grade commercial communications products and solutions.', 'rawDescription': 'Your connectivity experts, pioneering in the field of carrier grade commercial communications products and solutions.', 'descriptionUrls': None, 'verified': False, 'created': datetime.datetime(2010, 6, 29, 4, 55, 4, tzinfo=datetime.timezone.utc), 'followersCount': 85, 'friendsCount': 204, 'statusesCount': 1078, 'favouritesCount': 156, 'listedCount': 1, 'mediaCount': 391, 'location': 'Gold Coast, Australia', 'protected': False, 'linkUrl': 'http://www.powertec.com.au', 'linkTcourl': 'http://t.co/Z8waMsS46R', 'profileImageUrl': 'https://pbs.twimg.com/profile_images/1379964506793672705/gsE59wTC_normal.png', 'profileBannerUrl': 'https://pbs.twimg.com/profile_banners/160805245/1625463287'}</td>\n",
       "      <td>0</td>\n",
       "      <td>0</td>\n",
       "      <td>0</td>\n",
       "      <td>0</td>\n",
       "      <td>...</td>\n",
       "      <td>[{'previewUrl': 'https://pbs.twimg.com/media/E8FePRnVcAEH-Mb?format=jpg&amp;name=small', 'fullUrl': 'https://pbs.twimg.com/media/E8FePRnVcAEH-Mb?format=jpg&amp;name=large'}]</td>\n",
       "      <td>NaN</td>\n",
       "      <td>NaN</td>\n",
       "      <td>NaN</td>\n",
       "      <td>NaN</td>\n",
       "      <td>NaN</td>\n",
       "      <td>NaN</td>\n",
       "      <td>NaN</td>\n",
       "      <td>['workingfromhome', 'WFH', 'homeoffice', 'homeschooling', 'COVID', 'lockdown2021', 'studyfromhome', 'homeschooling']</td>\n",
       "      <td>NaN</td>\n",
       "    </tr>\n",
       "    <tr>\n",
       "      <th>1</th>\n",
       "      <td>https://twitter.com/htcity/status/1423520079602327552</td>\n",
       "      <td>2021-08-06 05:43:29+00:00</td>\n",
       "      <td>.@SidMalhotra keeps it casual while working from home writes, “No thanks, Formals.” \\n\\n#SidharthMalhotra #Casual #Bollywood #WFH https://t.co/V7R6EcpDQd</td>\n",
       "      <td>.@SidMalhotra keeps it casual while working from home writes, “No thanks, Formals.” \\n\\n#SidharthMalhotra #Casual #Bollywood #WFH https://t.co/V7R6EcpDQd</td>\n",
       "      <td>1423520079602327552</td>\n",
       "      <td>{'username': 'htcity', 'id': 125582800, 'displayname': 'HT City', 'description': 'The lifestyle and entertainment supplement, everyday with Hindustan Times.', 'rawDescription': 'The lifestyle and entertainment supplement, everyday with Hindustan Times.', 'descriptionUrls': None, 'verified': True, 'created': datetime.datetime(2010, 3, 23, 7, 14, 2, tzinfo=datetime.timezone.utc), 'followersCount': 46755, 'friendsCount': 722, 'statusesCount': 25319, 'favouritesCount': 4108, 'listedCount': 184, 'mediaCount': 12984, 'location': 'New Delhi', 'protected': False, 'linkUrl': 'http://www.facebook.com/htcity', 'linkTcourl': 'http://t.co/d6B1GEhNFe', 'profileImageUrl': 'https://pbs.twimg.com/profile_images/1302181147212881921/pm0LewaR_normal.jpg', 'profileBannerUrl': 'https://pbs.twimg.com/profile_banners/125582800/1599295789'}</td>\n",
       "      <td>0</td>\n",
       "      <td>1</td>\n",
       "      <td>1</td>\n",
       "      <td>0</td>\n",
       "      <td>...</td>\n",
       "      <td>[{'previewUrl': 'https://pbs.twimg.com/media/E8Fb9b7VcAAqj5j?format=jpg&amp;name=small', 'fullUrl': 'https://pbs.twimg.com/media/E8Fb9b7VcAAqj5j?format=jpg&amp;name=large'}, {'previewUrl': 'https://pbs.twimg.com/media/E8Fb9b7UcAAnLM8?format=jpg&amp;name=small', 'fullUrl': 'https://pbs.twimg.com/media/E8Fb9b7UcAAnLM8?format=jpg&amp;name=large'}]</td>\n",
       "      <td>NaN</td>\n",
       "      <td>NaN</td>\n",
       "      <td>NaN</td>\n",
       "      <td>NaN</td>\n",
       "      <td>[{'username': 'SidMalhotra', 'id': 950165300, 'displayname': 'Sidharth Malhotra', 'description': None, 'rawDescription': None, 'descriptionUrls': None, 'verified': None, 'created': None, 'followersCount': None, 'friendsCount': None, 'statusesCount': None, 'favouritesCount': None, 'listedCount': None, 'mediaCount': None, 'location': None, 'protected': None, 'linkUrl': None, 'linkTcourl': None, 'profileImageUrl': None, 'profileBannerUrl': None}]</td>\n",
       "      <td>NaN</td>\n",
       "      <td>NaN</td>\n",
       "      <td>['SidharthMalhotra', 'Casual', 'Bollywood', 'WFH']</td>\n",
       "      <td>NaN</td>\n",
       "    </tr>\n",
       "  </tbody>\n",
       "</table>\n",
       "<p>2 rows × 27 columns</p>\n",
       "</div>"
      ],
      "text/plain": [
       "                                                              url  \\\n",
       "0  https://twitter.com/powertectelecom/status/1423522770596417536   \n",
       "1           https://twitter.com/htcity/status/1423520079602327552   \n",
       "\n",
       "                        date  \\\n",
       "0  2021-08-06 05:54:10+00:00   \n",
       "1  2021-08-06 05:43:29+00:00   \n",
       "\n",
       "                                                                                                                                                                                                                                                                           content  \\\n",
       "0  Powertec is here to help guide and advise you on recommended Wi-Fi connectivity solutions for students studying at home. https://t.co/Aj6tmMJ44V\\n\\n#workingfromhome #WFH #homeoffice #homeschooling #COVID #lockdown2021 #studyfromhome #homeschooling https://t.co/g2NAmG7YmG   \n",
       "1                                                                                                                        .@SidMalhotra keeps it casual while working from home writes, “No thanks, Formals.” \\n\\n#SidharthMalhotra #Casual #Bollywood #WFH https://t.co/V7R6EcpDQd   \n",
       "\n",
       "                                                                                                                                                                                                                                                     renderedContent  \\\n",
       "0  Powertec is here to help guide and advise you on recommended Wi-Fi connectivity solutions for students studying at home. t.ly/1LL4\\n\\n#workingfromhome #WFH #homeoffice #homeschooling #COVID #lockdown2021 #studyfromhome #homeschooling https://t.co/g2NAmG7YmG   \n",
       "1                                                                                                          .@SidMalhotra keeps it casual while working from home writes, “No thanks, Formals.” \\n\\n#SidharthMalhotra #Casual #Bollywood #WFH https://t.co/V7R6EcpDQd   \n",
       "\n",
       "                    id  \\\n",
       "0  1423522770596417536   \n",
       "1  1423520079602327552   \n",
       "\n",
       "                                                                                                                                                                                                                                                                                                                                                                                                                                                                                                                                                                                                                                                                                                                                                                                                                                                                                                                                                                              user  \\\n",
       "0  {'username': 'powertectelecom', 'id': 160805245, 'displayname': 'Powertec Wireless Technology', 'description': 'Your connectivity experts, pioneering in the field of carrier grade commercial communications products and solutions.', 'rawDescription': 'Your connectivity experts, pioneering in the field of carrier grade commercial communications products and solutions.', 'descriptionUrls': None, 'verified': False, 'created': datetime.datetime(2010, 6, 29, 4, 55, 4, tzinfo=datetime.timezone.utc), 'followersCount': 85, 'friendsCount': 204, 'statusesCount': 1078, 'favouritesCount': 156, 'listedCount': 1, 'mediaCount': 391, 'location': 'Gold Coast, Australia', 'protected': False, 'linkUrl': 'http://www.powertec.com.au', 'linkTcourl': 'http://t.co/Z8waMsS46R', 'profileImageUrl': 'https://pbs.twimg.com/profile_images/1379964506793672705/gsE59wTC_normal.png', 'profileBannerUrl': 'https://pbs.twimg.com/profile_banners/160805245/1625463287'}   \n",
       "1                                                                                                                      {'username': 'htcity', 'id': 125582800, 'displayname': 'HT City', 'description': 'The lifestyle and entertainment supplement, everyday with Hindustan Times.', 'rawDescription': 'The lifestyle and entertainment supplement, everyday with Hindustan Times.', 'descriptionUrls': None, 'verified': True, 'created': datetime.datetime(2010, 3, 23, 7, 14, 2, tzinfo=datetime.timezone.utc), 'followersCount': 46755, 'friendsCount': 722, 'statusesCount': 25319, 'favouritesCount': 4108, 'listedCount': 184, 'mediaCount': 12984, 'location': 'New Delhi', 'protected': False, 'linkUrl': 'http://www.facebook.com/htcity', 'linkTcourl': 'http://t.co/d6B1GEhNFe', 'profileImageUrl': 'https://pbs.twimg.com/profile_images/1302181147212881921/pm0LewaR_normal.jpg', 'profileBannerUrl': 'https://pbs.twimg.com/profile_banners/125582800/1599295789'}   \n",
       "\n",
       "   replyCount  retweetCount  likeCount  quoteCount  ...  \\\n",
       "0           0             0          0           0  ...   \n",
       "1           0             1          1           0  ...   \n",
       "\n",
       "                                                                                                                                                                                                                                                                                                                                        media  \\\n",
       "0                                                                                                                                                                       [{'previewUrl': 'https://pbs.twimg.com/media/E8FePRnVcAEH-Mb?format=jpg&name=small', 'fullUrl': 'https://pbs.twimg.com/media/E8FePRnVcAEH-Mb?format=jpg&name=large'}]   \n",
       "1  [{'previewUrl': 'https://pbs.twimg.com/media/E8Fb9b7VcAAqj5j?format=jpg&name=small', 'fullUrl': 'https://pbs.twimg.com/media/E8Fb9b7VcAAqj5j?format=jpg&name=large'}, {'previewUrl': 'https://pbs.twimg.com/media/E8Fb9b7UcAAnLM8?format=jpg&name=small', 'fullUrl': 'https://pbs.twimg.com/media/E8Fb9b7UcAAnLM8?format=jpg&name=large'}]   \n",
       "\n",
       "  retweetedTweet quotedTweet inReplyToTweetId inReplyToUser  \\\n",
       "0            NaN         NaN              NaN           NaN   \n",
       "1            NaN         NaN              NaN           NaN   \n",
       "\n",
       "                                                                                                                                                                                                                                                                                                                                                                                                                                                    mentionedUsers  \\\n",
       "0                                                                                                                                                                                                                                                                                                                                                                                                                                                              NaN   \n",
       "1  [{'username': 'SidMalhotra', 'id': 950165300, 'displayname': 'Sidharth Malhotra', 'description': None, 'rawDescription': None, 'descriptionUrls': None, 'verified': None, 'created': None, 'followersCount': None, 'friendsCount': None, 'statusesCount': None, 'favouritesCount': None, 'listedCount': None, 'mediaCount': None, 'location': None, 'protected': None, 'linkUrl': None, 'linkTcourl': None, 'profileImageUrl': None, 'profileBannerUrl': None}]   \n",
       "\n",
       "  coordinates place  \\\n",
       "0         NaN   NaN   \n",
       "1         NaN   NaN   \n",
       "\n",
       "                                                                                                               hashtags  \\\n",
       "0  ['workingfromhome', 'WFH', 'homeoffice', 'homeschooling', 'COVID', 'lockdown2021', 'studyfromhome', 'homeschooling']   \n",
       "1                                                                    ['SidharthMalhotra', 'Casual', 'Bollywood', 'WFH']   \n",
       "\n",
       "  cashtags  \n",
       "0      NaN  \n",
       "1      NaN  \n",
       "\n",
       "[2 rows x 27 columns]"
      ]
     },
     "execution_count": 5,
     "metadata": {},
     "output_type": "execute_result"
    }
   ],
   "source": [
    "df.head(2)"
   ]
  },
  {
   "cell_type": "code",
   "execution_count": 6,
   "id": "d3699518",
   "metadata": {},
   "outputs": [],
   "source": [
    "df1 = df[['date', 'content', 'hashtags']]"
   ]
  },
  {
   "cell_type": "code",
   "execution_count": 7,
   "id": "a44fef38",
   "metadata": {},
   "outputs": [
    {
     "data": {
      "text/html": [
       "<div>\n",
       "<style scoped>\n",
       "    .dataframe tbody tr th:only-of-type {\n",
       "        vertical-align: middle;\n",
       "    }\n",
       "\n",
       "    .dataframe tbody tr th {\n",
       "        vertical-align: top;\n",
       "    }\n",
       "\n",
       "    .dataframe thead th {\n",
       "        text-align: right;\n",
       "    }\n",
       "</style>\n",
       "<table border=\"1\" class=\"dataframe\">\n",
       "  <thead>\n",
       "    <tr style=\"text-align: right;\">\n",
       "      <th></th>\n",
       "      <th>date</th>\n",
       "      <th>content</th>\n",
       "      <th>hashtags</th>\n",
       "    </tr>\n",
       "  </thead>\n",
       "  <tbody>\n",
       "    <tr>\n",
       "      <th>0</th>\n",
       "      <td>2021-08-06 05:54:10+00:00</td>\n",
       "      <td>Powertec is here to help guide and advise you on recommended Wi-Fi connectivity solutions for students studying at home. https://t.co/Aj6tmMJ44V\\n\\n#workingfromhome #WFH #homeoffice #homeschooling #COVID #lockdown2021 #studyfromhome #homeschooling https://t.co/g2NAmG7YmG</td>\n",
       "      <td>['workingfromhome', 'WFH', 'homeoffice', 'homeschooling', 'COVID', 'lockdown2021', 'studyfromhome', 'homeschooling']</td>\n",
       "    </tr>\n",
       "    <tr>\n",
       "      <th>1</th>\n",
       "      <td>2021-08-06 05:43:29+00:00</td>\n",
       "      <td>.@SidMalhotra keeps it casual while working from home writes, “No thanks, Formals.” \\n\\n#SidharthMalhotra #Casual #Bollywood #WFH https://t.co/V7R6EcpDQd</td>\n",
       "      <td>['SidharthMalhotra', 'Casual', 'Bollywood', 'WFH']</td>\n",
       "    </tr>\n",
       "    <tr>\n",
       "      <th>2</th>\n",
       "      <td>2021-08-06 05:43:04+00:00</td>\n",
       "      <td>Secretary team is sleeping in the job as usual #wfh https://t.co/6wnznbpCc4</td>\n",
       "      <td>['wfh']</td>\n",
       "    </tr>\n",
       "    <tr>\n",
       "      <th>3</th>\n",
       "      <td>2021-08-06 05:42:43+00:00</td>\n",
       "      <td>If you work from home, it may be a good idea to establish a section of your home where you work and keep it separate from where you unwind, if that’s possible.\\n#WFH</td>\n",
       "      <td>['WFH']</td>\n",
       "    </tr>\n",
       "    <tr>\n",
       "      <th>4</th>\n",
       "      <td>2021-08-06 05:42:41+00:00</td>\n",
       "      <td>👩‍💻本日の会議出番ないので…\\n\\nマッサージガンしながら参加🤗\\n\\n💪(⁎⁍̴̛ᴗ⁍̴̛⁎)ﾑﾆﾑﾆ\\n\\n#WFH\\n#マッサージガン https://t.co/m6EXgWSM9k</td>\n",
       "      <td>['WFH', 'マッサージガン']</td>\n",
       "    </tr>\n",
       "  </tbody>\n",
       "</table>\n",
       "</div>"
      ],
      "text/plain": [
       "                        date  \\\n",
       "0  2021-08-06 05:54:10+00:00   \n",
       "1  2021-08-06 05:43:29+00:00   \n",
       "2  2021-08-06 05:43:04+00:00   \n",
       "3  2021-08-06 05:42:43+00:00   \n",
       "4  2021-08-06 05:42:41+00:00   \n",
       "\n",
       "                                                                                                                                                                                                                                                                           content  \\\n",
       "0  Powertec is here to help guide and advise you on recommended Wi-Fi connectivity solutions for students studying at home. https://t.co/Aj6tmMJ44V\\n\\n#workingfromhome #WFH #homeoffice #homeschooling #COVID #lockdown2021 #studyfromhome #homeschooling https://t.co/g2NAmG7YmG   \n",
       "1                                                                                                                        .@SidMalhotra keeps it casual while working from home writes, “No thanks, Formals.” \\n\\n#SidharthMalhotra #Casual #Bollywood #WFH https://t.co/V7R6EcpDQd   \n",
       "2                                                                                                                                                                                                      Secretary team is sleeping in the job as usual #wfh https://t.co/6wnznbpCc4   \n",
       "3                                                                                                            If you work from home, it may be a good idea to establish a section of your home where you work and keep it separate from where you unwind, if that’s possible.\\n#WFH   \n",
       "4                                                                                                                                                                                  👩‍💻本日の会議出番ないので…\\n\\nマッサージガンしながら参加🤗\\n\\n💪(⁎⁍̴̛ᴗ⁍̴̛⁎)ﾑﾆﾑﾆ\\n\\n#WFH\\n#マッサージガン https://t.co/m6EXgWSM9k   \n",
       "\n",
       "                                                                                                               hashtags  \n",
       "0  ['workingfromhome', 'WFH', 'homeoffice', 'homeschooling', 'COVID', 'lockdown2021', 'studyfromhome', 'homeschooling']  \n",
       "1                                                                    ['SidharthMalhotra', 'Casual', 'Bollywood', 'WFH']  \n",
       "2                                                                                                               ['wfh']  \n",
       "3                                                                                                               ['WFH']  \n",
       "4                                                                                                    ['WFH', 'マッサージガン']  "
      ]
     },
     "execution_count": 7,
     "metadata": {},
     "output_type": "execute_result"
    }
   ],
   "source": [
    "df1.head()"
   ]
  },
  {
   "cell_type": "code",
   "execution_count": 8,
   "id": "83a7ba80",
   "metadata": {},
   "outputs": [
    {
     "data": {
      "text/html": [
       "<div>\n",
       "<style scoped>\n",
       "    .dataframe tbody tr th:only-of-type {\n",
       "        vertical-align: middle;\n",
       "    }\n",
       "\n",
       "    .dataframe tbody tr th {\n",
       "        vertical-align: top;\n",
       "    }\n",
       "\n",
       "    .dataframe thead th {\n",
       "        text-align: right;\n",
       "    }\n",
       "</style>\n",
       "<table border=\"1\" class=\"dataframe\">\n",
       "  <thead>\n",
       "    <tr style=\"text-align: right;\">\n",
       "      <th></th>\n",
       "      <th>date</th>\n",
       "      <th>content</th>\n",
       "      <th>hashtags</th>\n",
       "    </tr>\n",
       "  </thead>\n",
       "  <tbody>\n",
       "    <tr>\n",
       "      <th>789347</th>\n",
       "      <td>2009-02-02 07:04:13+00:00</td>\n",
       "      <td>http://twitpic.com/1al6b - morning all. Nice and quiet outside #uksnow RH8 #wfh</td>\n",
       "      <td>['uksnow', 'wfh']</td>\n",
       "    </tr>\n",
       "    <tr>\n",
       "      <th>789348</th>\n",
       "      <td>2009-02-01 22:39:47+00:00</td>\n",
       "      <td>Tweeple of the SE England, I think it's work from home day tomorrow. #WFH</td>\n",
       "      <td>['WFH']</td>\n",
       "    </tr>\n",
       "    <tr>\n",
       "      <th>789349</th>\n",
       "      <td>2009-01-29 20:25:23+00:00</td>\n",
       "      <td>Ahh. Home at last. Offspring settled. So… back to work then! #WfH</td>\n",
       "      <td>['WfH']</td>\n",
       "    </tr>\n",
       "    <tr>\n",
       "      <th>789350</th>\n",
       "      <td>2008-12-12 18:05:02+00:00</td>\n",
       "      <td>Stoked that @bagelradio's Best Music of 2008 broadcast is starting. Song #50 is Albert Goes West by Nick Cave. http://bagelradio.com #WFH</td>\n",
       "      <td>['WFH']</td>\n",
       "    </tr>\n",
       "    <tr>\n",
       "      <th>789351</th>\n",
       "      <td>2008-10-15 17:19:48+00:00</td>\n",
       "      <td>#wfh, so nice to get work done while listening to good music and having limited distractions</td>\n",
       "      <td>['wfh']</td>\n",
       "    </tr>\n",
       "  </tbody>\n",
       "</table>\n",
       "</div>"
      ],
      "text/plain": [
       "                             date  \\\n",
       "789347  2009-02-02 07:04:13+00:00   \n",
       "789348  2009-02-01 22:39:47+00:00   \n",
       "789349  2009-01-29 20:25:23+00:00   \n",
       "789350  2008-12-12 18:05:02+00:00   \n",
       "789351  2008-10-15 17:19:48+00:00   \n",
       "\n",
       "                                                                                                                                          content  \\\n",
       "789347                                                            http://twitpic.com/1al6b - morning all. Nice and quiet outside #uksnow RH8 #wfh   \n",
       "789348                                                                  Tweeple of the SE England, I think it's work from home day tomorrow. #WFH   \n",
       "789349                                                                          Ahh. Home at last. Offspring settled. So… back to work then! #WfH   \n",
       "789350  Stoked that @bagelradio's Best Music of 2008 broadcast is starting. Song #50 is Albert Goes West by Nick Cave. http://bagelradio.com #WFH   \n",
       "789351                                               #wfh, so nice to get work done while listening to good music and having limited distractions   \n",
       "\n",
       "                 hashtags  \n",
       "789347  ['uksnow', 'wfh']  \n",
       "789348            ['WFH']  \n",
       "789349            ['WfH']  \n",
       "789350            ['WFH']  \n",
       "789351            ['wfh']  "
      ]
     },
     "execution_count": 8,
     "metadata": {},
     "output_type": "execute_result"
    }
   ],
   "source": [
    "df1.tail()"
   ]
  },
  {
   "cell_type": "markdown",
   "id": "ae2e32dd",
   "metadata": {},
   "source": [
    "The data is from 2008. We can analyze later if the frequency of tweets #wfh increased after the covid."
   ]
  },
  {
   "cell_type": "markdown",
   "id": "33462391",
   "metadata": {},
   "source": [
    "# Cleaning columns"
   ]
  },
  {
   "cell_type": "code",
   "execution_count": 9,
   "id": "60a32866",
   "metadata": {},
   "outputs": [],
   "source": [
    "df1['date'] = df1['date'].apply(lambda x: x.split(' ')[0])"
   ]
  },
  {
   "cell_type": "code",
   "execution_count": 10,
   "id": "306e44e0",
   "metadata": {},
   "outputs": [
    {
     "data": {
      "text/plain": [
       "dtype('O')"
      ]
     },
     "execution_count": 10,
     "metadata": {},
     "output_type": "execute_result"
    }
   ],
   "source": [
    "df1['date'].dtype #data type is not in datetime format."
   ]
  },
  {
   "cell_type": "code",
   "execution_count": 11,
   "id": "ff53c49e",
   "metadata": {},
   "outputs": [],
   "source": [
    "df1['date'] = pd.to_datetime(df1['date'], format = \"%Y-%m-%d\") #conversion of date in datetime format"
   ]
  },
  {
   "cell_type": "code",
   "execution_count": 12,
   "id": "d3e6c06a",
   "metadata": {},
   "outputs": [
    {
     "data": {
      "text/html": [
       "<div>\n",
       "<style scoped>\n",
       "    .dataframe tbody tr th:only-of-type {\n",
       "        vertical-align: middle;\n",
       "    }\n",
       "\n",
       "    .dataframe tbody tr th {\n",
       "        vertical-align: top;\n",
       "    }\n",
       "\n",
       "    .dataframe thead th {\n",
       "        text-align: right;\n",
       "    }\n",
       "</style>\n",
       "<table border=\"1\" class=\"dataframe\">\n",
       "  <thead>\n",
       "    <tr style=\"text-align: right;\">\n",
       "      <th></th>\n",
       "      <th>date</th>\n",
       "      <th>content</th>\n",
       "      <th>hashtags</th>\n",
       "    </tr>\n",
       "  </thead>\n",
       "  <tbody>\n",
       "    <tr>\n",
       "      <th>0</th>\n",
       "      <td>2021-08-06</td>\n",
       "      <td>Powertec is here to help guide and advise you on recommended Wi-Fi connectivity solutions for students studying at home. https://t.co/Aj6tmMJ44V\\n\\n#workingfromhome #WFH #homeoffice #homeschooling #COVID #lockdown2021 #studyfromhome #homeschooling https://t.co/g2NAmG7YmG</td>\n",
       "      <td>['workingfromhome', 'WFH', 'homeoffice', 'homeschooling', 'COVID', 'lockdown2021', 'studyfromhome', 'homeschooling']</td>\n",
       "    </tr>\n",
       "    <tr>\n",
       "      <th>1</th>\n",
       "      <td>2021-08-06</td>\n",
       "      <td>.@SidMalhotra keeps it casual while working from home writes, “No thanks, Formals.” \\n\\n#SidharthMalhotra #Casual #Bollywood #WFH https://t.co/V7R6EcpDQd</td>\n",
       "      <td>['SidharthMalhotra', 'Casual', 'Bollywood', 'WFH']</td>\n",
       "    </tr>\n",
       "    <tr>\n",
       "      <th>2</th>\n",
       "      <td>2021-08-06</td>\n",
       "      <td>Secretary team is sleeping in the job as usual #wfh https://t.co/6wnznbpCc4</td>\n",
       "      <td>['wfh']</td>\n",
       "    </tr>\n",
       "    <tr>\n",
       "      <th>3</th>\n",
       "      <td>2021-08-06</td>\n",
       "      <td>If you work from home, it may be a good idea to establish a section of your home where you work and keep it separate from where you unwind, if that’s possible.\\n#WFH</td>\n",
       "      <td>['WFH']</td>\n",
       "    </tr>\n",
       "    <tr>\n",
       "      <th>4</th>\n",
       "      <td>2021-08-06</td>\n",
       "      <td>👩‍💻本日の会議出番ないので…\\n\\nマッサージガンしながら参加🤗\\n\\n💪(⁎⁍̴̛ᴗ⁍̴̛⁎)ﾑﾆﾑﾆ\\n\\n#WFH\\n#マッサージガン https://t.co/m6EXgWSM9k</td>\n",
       "      <td>['WFH', 'マッサージガン']</td>\n",
       "    </tr>\n",
       "  </tbody>\n",
       "</table>\n",
       "</div>"
      ],
      "text/plain": [
       "        date  \\\n",
       "0 2021-08-06   \n",
       "1 2021-08-06   \n",
       "2 2021-08-06   \n",
       "3 2021-08-06   \n",
       "4 2021-08-06   \n",
       "\n",
       "                                                                                                                                                                                                                                                                           content  \\\n",
       "0  Powertec is here to help guide and advise you on recommended Wi-Fi connectivity solutions for students studying at home. https://t.co/Aj6tmMJ44V\\n\\n#workingfromhome #WFH #homeoffice #homeschooling #COVID #lockdown2021 #studyfromhome #homeschooling https://t.co/g2NAmG7YmG   \n",
       "1                                                                                                                        .@SidMalhotra keeps it casual while working from home writes, “No thanks, Formals.” \\n\\n#SidharthMalhotra #Casual #Bollywood #WFH https://t.co/V7R6EcpDQd   \n",
       "2                                                                                                                                                                                                      Secretary team is sleeping in the job as usual #wfh https://t.co/6wnznbpCc4   \n",
       "3                                                                                                            If you work from home, it may be a good idea to establish a section of your home where you work and keep it separate from where you unwind, if that’s possible.\\n#WFH   \n",
       "4                                                                                                                                                                                  👩‍💻本日の会議出番ないので…\\n\\nマッサージガンしながら参加🤗\\n\\n💪(⁎⁍̴̛ᴗ⁍̴̛⁎)ﾑﾆﾑﾆ\\n\\n#WFH\\n#マッサージガン https://t.co/m6EXgWSM9k   \n",
       "\n",
       "                                                                                                               hashtags  \n",
       "0  ['workingfromhome', 'WFH', 'homeoffice', 'homeschooling', 'COVID', 'lockdown2021', 'studyfromhome', 'homeschooling']  \n",
       "1                                                                    ['SidharthMalhotra', 'Casual', 'Bollywood', 'WFH']  \n",
       "2                                                                                                               ['wfh']  \n",
       "3                                                                                                               ['WFH']  \n",
       "4                                                                                                    ['WFH', 'マッサージガン']  "
      ]
     },
     "execution_count": 12,
     "metadata": {},
     "output_type": "execute_result"
    }
   ],
   "source": [
    "df1.head()"
   ]
  },
  {
   "cell_type": "markdown",
   "id": "37aa97a5",
   "metadata": {},
   "source": [
    "'date' column looks much cleaner."
   ]
  },
  {
   "cell_type": "code",
   "execution_count": 13,
   "id": "eec02844",
   "metadata": {
    "scrolled": true
   },
   "outputs": [
    {
     "name": "stdout",
     "output_type": "stream",
     "text": [
      "\n",
      "Number of duplicated tweets:  20497\n"
     ]
    },
    {
     "data": {
      "text/html": [
       "<div>\n",
       "<style scoped>\n",
       "    .dataframe tbody tr th:only-of-type {\n",
       "        vertical-align: middle;\n",
       "    }\n",
       "\n",
       "    .dataframe tbody tr th {\n",
       "        vertical-align: top;\n",
       "    }\n",
       "\n",
       "    .dataframe thead th {\n",
       "        text-align: right;\n",
       "    }\n",
       "</style>\n",
       "<table border=\"1\" class=\"dataframe\">\n",
       "  <thead>\n",
       "    <tr style=\"text-align: right;\">\n",
       "      <th></th>\n",
       "      <th>date</th>\n",
       "      <th>content</th>\n",
       "      <th>hashtags</th>\n",
       "    </tr>\n",
       "  </thead>\n",
       "  <tbody>\n",
       "    <tr>\n",
       "      <th>789292</th>\n",
       "      <td>2009-05-21</td>\n",
       "      <td>#Amway - The Founder's Fundamentals   http://bit.ly/LtnTI  #Family #HomebasedBiz #WFH #SAHM #Artistry #PersonalAccents #FamilyOwnedBusiness</td>\n",
       "      <td>['Amway', 'Family', 'HomebasedBiz', 'WFH', 'SAHM', 'Artistry', 'PersonalAccents', 'FamilyOwnedBusiness']</td>\n",
       "    </tr>\n",
       "    <tr>\n",
       "      <th>789293</th>\n",
       "      <td>2009-05-21</td>\n",
       "      <td>#Brainiums DHA Gummies for Kids! Being healthy never tasted so good!  http://bit.ly/oqAaW  #Children #Health #Moms #SAHM #WFH #Omega3</td>\n",
       "      <td>['Brainiums', 'Children', 'Health', 'Moms', 'SAHM', 'WFH', 'Omega3']</td>\n",
       "    </tr>\n",
       "    <tr>\n",
       "      <th>789291</th>\n",
       "      <td>2009-05-22</td>\n",
       "      <td>#Brainiums DHA Gummies for Kids! Being healthy never tasted so good!  http://bit.ly/oqAaW  #Children #Health #Moms #SAHM #WFH #Omega3</td>\n",
       "      <td>['Brainiums', 'Children', 'Health', 'Moms', 'SAHM', 'WFH', 'Omega3']</td>\n",
       "    </tr>\n",
       "    <tr>\n",
       "      <th>789288</th>\n",
       "      <td>2009-05-23</td>\n",
       "      <td>#Amway - The Founder's Fundamentals   http://bit.ly/LtnTI  #Family #HomebasedBiz #WFH #SAHM #Artistry #PersonalAccents #FamilyOwnedBusiness</td>\n",
       "      <td>['Amway', 'Family', 'HomebasedBiz', 'WFH', 'SAHM', 'Artistry', 'PersonalAccents', 'FamilyOwnedBusiness']</td>\n",
       "    </tr>\n",
       "    <tr>\n",
       "      <th>789289</th>\n",
       "      <td>2009-05-23</td>\n",
       "      <td>#Brainiums DHA Gummies for Kids! Being healthy never tasted so good!  http://bit.ly/oqAaW  #Children #Health #Moms #SAHM #WFH #Omega3</td>\n",
       "      <td>['Brainiums', 'Children', 'Health', 'Moms', 'SAHM', 'WFH', 'Omega3']</td>\n",
       "    </tr>\n",
       "  </tbody>\n",
       "</table>\n",
       "</div>"
      ],
      "text/plain": [
       "             date  \\\n",
       "789292 2009-05-21   \n",
       "789293 2009-05-21   \n",
       "789291 2009-05-22   \n",
       "789288 2009-05-23   \n",
       "789289 2009-05-23   \n",
       "\n",
       "                                                                                                                                            content  \\\n",
       "789292  #Amway - The Founder's Fundamentals   http://bit.ly/LtnTI  #Family #HomebasedBiz #WFH #SAHM #Artistry #PersonalAccents #FamilyOwnedBusiness   \n",
       "789293        #Brainiums DHA Gummies for Kids! Being healthy never tasted so good!  http://bit.ly/oqAaW  #Children #Health #Moms #SAHM #WFH #Omega3   \n",
       "789291        #Brainiums DHA Gummies for Kids! Being healthy never tasted so good!  http://bit.ly/oqAaW  #Children #Health #Moms #SAHM #WFH #Omega3   \n",
       "789288  #Amway - The Founder's Fundamentals   http://bit.ly/LtnTI  #Family #HomebasedBiz #WFH #SAHM #Artistry #PersonalAccents #FamilyOwnedBusiness   \n",
       "789289        #Brainiums DHA Gummies for Kids! Being healthy never tasted so good!  http://bit.ly/oqAaW  #Children #Health #Moms #SAHM #WFH #Omega3   \n",
       "\n",
       "                                                                                                        hashtags  \n",
       "789292  ['Amway', 'Family', 'HomebasedBiz', 'WFH', 'SAHM', 'Artistry', 'PersonalAccents', 'FamilyOwnedBusiness']  \n",
       "789293                                      ['Brainiums', 'Children', 'Health', 'Moms', 'SAHM', 'WFH', 'Omega3']  \n",
       "789291                                      ['Brainiums', 'Children', 'Health', 'Moms', 'SAHM', 'WFH', 'Omega3']  \n",
       "789288  ['Amway', 'Family', 'HomebasedBiz', 'WFH', 'SAHM', 'Artistry', 'PersonalAccents', 'FamilyOwnedBusiness']  \n",
       "789289                                      ['Brainiums', 'Children', 'Health', 'Moms', 'SAHM', 'WFH', 'Omega3']  "
      ]
     },
     "metadata": {},
     "output_type": "display_data"
    }
   ],
   "source": [
    "#Checking duplicated tweets\n",
    "print(\"\\nNumber of duplicated tweets: \", len(df1[df1['content'].duplicated()]))\n",
    "display(df1[df1['content'].duplicated(keep=False)].sort_values(by=list(df1.columns)).head())"
   ]
  },
  {
   "cell_type": "code",
   "execution_count": 14,
   "id": "fcd8591b",
   "metadata": {},
   "outputs": [
    {
     "name": "stdout",
     "output_type": "stream",
     "text": [
      "Duplicated entries removed successfully!\n"
     ]
    }
   ],
   "source": [
    "# deleting duplicated entries\n",
    "df1 = df1.drop_duplicates(subset=['content']).reset_index(drop=True)\n",
    "print('Duplicated entries removed successfully!')"
   ]
  },
  {
   "cell_type": "code",
   "execution_count": 15,
   "id": "c6426a62",
   "metadata": {},
   "outputs": [
    {
     "data": {
      "text/plain": [
       "(768855, 3)"
      ]
     },
     "execution_count": 15,
     "metadata": {},
     "output_type": "execute_result"
    }
   ],
   "source": [
    "df1.shape"
   ]
  },
  {
   "cell_type": "markdown",
   "id": "e9938e3a",
   "metadata": {},
   "source": [
    "# Preprocessing content\n",
    "Removing hashtags, @usename, urls, https, special characters"
   ]
  },
  {
   "cell_type": "code",
   "execution_count": 16,
   "id": "8bdb00cd",
   "metadata": {},
   "outputs": [],
   "source": [
    "import unicodedata\n",
    "from nltk.stem import WordNetLemmatizer\n",
    "import re,string"
   ]
  },
  {
   "cell_type": "code",
   "execution_count": 17,
   "id": "84b06263",
   "metadata": {},
   "outputs": [],
   "source": [
    "# https://github.com/Rohan2002/BERT-natural-disaster-tweet-prediction/blob/master/lib/preprocess.py#L127\n",
    "\n",
    "def strip_links(text):\n",
    "    link_regex    = re.compile('((https?):((//)|(\\\\\\\\))+([\\w\\d:#@%/;$()~_?\\+-=\\\\\\.&](#!)?)*)', re.DOTALL)\n",
    "    links         = re.findall(link_regex, text)\n",
    "    for link in links:\n",
    "        text = text.replace(link[0], ', ')    \n",
    "    return text\n",
    "\n",
    "def strip_all_entities(text):\n",
    "    entity_prefixes = ['@','#']\n",
    "    for separator in  string.punctuation:\n",
    "        if separator not in entity_prefixes :\n",
    "            text = text.replace(separator,' ')\n",
    "    words = []\n",
    "    for word in text.split():\n",
    "        word = word.strip()\n",
    "        if word:\n",
    "            if word[0] not in entity_prefixes:\n",
    "                words.append(word)\n",
    "    return ' '.join(words)\n",
    "\n",
    "\n",
    "# Clean urls\n",
    "def clean_urls(text):\n",
    "    text = re.sub(r\"https?://\\S+\", \"\", text)\n",
    "    return text\n",
    "\n",
    "\n",
    "# Remove all sorts of special characters and punctuations.\n",
    "def removeSpecialChar(text):\n",
    "    sentence = []\n",
    "    for s in text:\n",
    "        if s == \" \":\n",
    "            sentence.append(s)\n",
    "        if s.isalnum():\n",
    "            sentence.append(s)\n",
    "    return \"\".join(sentence)\n",
    "\n",
    "\n",
    "# Remove accented text\n",
    "def remove_accented_chars(text):\n",
    "    new_text = (\n",
    "        unicodedata.normalize(\"NFKD\", text)\n",
    "        .encode(\"ascii\", \"ignore\")\n",
    "        .decode(\"utf-8\", \"ignore\")\n",
    "    )\n",
    "    return new_text\n",
    "\n",
    "\n",
    "# Remove numbers from text\n",
    "def remove_numbers(text=\"\"):\n",
    "    new_sentence = \"\"\n",
    "    for word in text.split():\n",
    "        num_free_word = \"\".join([i for i in word if not i.isdigit()])\n",
    "        new_sentence += num_free_word + \" \"\n",
    "    return new_sentence\n",
    "\n",
    "\n",
    "# lemmatization\n",
    "def lemmatize(text):\n",
    "    lemmatizer = WordNetLemmatizer()\n",
    "    new_sentence = \"\"\n",
    "    for word in text.split():\n",
    "        lematized_word = lemmatizer.lemmatize(word)\n",
    "        new_sentence += lematized_word + \" \"\n",
    "    return new_sentence\n",
    "\n",
    "\n",
    "# Final data cleaning step is removing non-essential whitespaces\n",
    "def remove_white_space(text):\n",
    "    return \" \".join(text.split())\n",
    "\n",
    "\n",
    "# Text cleaning pipeline\n",
    "def clean_sentence_pipeline(text):\n",
    "    text = strip_links(text)\n",
    "    text = strip_all_entities(text)\n",
    "    text = clean_urls(text)\n",
    "    text = removeSpecialChar(text)\n",
    "    text = remove_accented_chars(text)\n",
    "    text = remove_numbers(text)\n",
    "    text = lemmatize(text)\n",
    "    return remove_white_space(text)"
   ]
  },
  {
   "cell_type": "code",
   "execution_count": 18,
   "id": "cfa00ff1",
   "metadata": {},
   "outputs": [],
   "source": [
    "df1['content'] = df1['content'].apply(lambda x: clean_sentence_pipeline(x))"
   ]
  },
  {
   "cell_type": "code",
   "execution_count": 19,
   "id": "d03ce0f8",
   "metadata": {},
   "outputs": [
    {
     "data": {
      "text/html": [
       "<div>\n",
       "<style scoped>\n",
       "    .dataframe tbody tr th:only-of-type {\n",
       "        vertical-align: middle;\n",
       "    }\n",
       "\n",
       "    .dataframe tbody tr th {\n",
       "        vertical-align: top;\n",
       "    }\n",
       "\n",
       "    .dataframe thead th {\n",
       "        text-align: right;\n",
       "    }\n",
       "</style>\n",
       "<table border=\"1\" class=\"dataframe\">\n",
       "  <thead>\n",
       "    <tr style=\"text-align: right;\">\n",
       "      <th></th>\n",
       "      <th>date</th>\n",
       "      <th>content</th>\n",
       "      <th>hashtags</th>\n",
       "    </tr>\n",
       "  </thead>\n",
       "  <tbody>\n",
       "    <tr>\n",
       "      <th>0</th>\n",
       "      <td>2021-08-06</td>\n",
       "      <td>Powertec is here to help guide and advise you on recommended Wi Fi connectivity solution for student studying at home</td>\n",
       "      <td>['workingfromhome', 'WFH', 'homeoffice', 'homeschooling', 'COVID', 'lockdown2021', 'studyfromhome', 'homeschooling']</td>\n",
       "    </tr>\n",
       "    <tr>\n",
       "      <th>1</th>\n",
       "      <td>2021-08-06</td>\n",
       "      <td>keep it casual while working from home writes No thanks Formals</td>\n",
       "      <td>['SidharthMalhotra', 'Casual', 'Bollywood', 'WFH']</td>\n",
       "    </tr>\n",
       "    <tr>\n",
       "      <th>2</th>\n",
       "      <td>2021-08-06</td>\n",
       "      <td>Secretary team is sleeping in the job a usual</td>\n",
       "      <td>['wfh']</td>\n",
       "    </tr>\n",
       "    <tr>\n",
       "      <th>3</th>\n",
       "      <td>2021-08-06</td>\n",
       "      <td>If you work from home it may be a good idea to establish a section of your home where you work and keep it separate from where you unwind if thats possible</td>\n",
       "      <td>['WFH']</td>\n",
       "    </tr>\n",
       "    <tr>\n",
       "      <th>4</th>\n",
       "      <td>2021-08-06</td>\n",
       "      <td></td>\n",
       "      <td>['WFH', 'マッサージガン']</td>\n",
       "    </tr>\n",
       "  </tbody>\n",
       "</table>\n",
       "</div>"
      ],
      "text/plain": [
       "        date  \\\n",
       "0 2021-08-06   \n",
       "1 2021-08-06   \n",
       "2 2021-08-06   \n",
       "3 2021-08-06   \n",
       "4 2021-08-06   \n",
       "\n",
       "                                                                                                                                                       content  \\\n",
       "0                                        Powertec is here to help guide and advise you on recommended Wi Fi connectivity solution for student studying at home   \n",
       "1                                                                                              keep it casual while working from home writes No thanks Formals   \n",
       "2                                                                                                                Secretary team is sleeping in the job a usual   \n",
       "3  If you work from home it may be a good idea to establish a section of your home where you work and keep it separate from where you unwind if thats possible   \n",
       "4                                                                                                                                                                \n",
       "\n",
       "                                                                                                               hashtags  \n",
       "0  ['workingfromhome', 'WFH', 'homeoffice', 'homeschooling', 'COVID', 'lockdown2021', 'studyfromhome', 'homeschooling']  \n",
       "1                                                                    ['SidharthMalhotra', 'Casual', 'Bollywood', 'WFH']  \n",
       "2                                                                                                               ['wfh']  \n",
       "3                                                                                                               ['WFH']  \n",
       "4                                                                                                    ['WFH', 'マッサージガン']  "
      ]
     },
     "execution_count": 19,
     "metadata": {},
     "output_type": "execute_result"
    }
   ],
   "source": [
    "df1.head()"
   ]
  },
  {
   "cell_type": "markdown",
   "id": "b510910b",
   "metadata": {},
   "source": [
    "The content looks much cleaner now."
   ]
  },
  {
   "cell_type": "markdown",
   "id": "3c33cb83",
   "metadata": {},
   "source": [
    "## keeping tweets containing more than 5 characters"
   ]
  },
  {
   "cell_type": "code",
   "execution_count": 20,
   "id": "89259066",
   "metadata": {},
   "outputs": [],
   "source": [
    "df1['content'] = df1['content'].apply(lambda x: x if len(x)>5 else 0)\n",
    "df1 = df1[df1['content']!=0].reset_index(drop = True)"
   ]
  },
  {
   "cell_type": "code",
   "execution_count": 21,
   "id": "de317598",
   "metadata": {},
   "outputs": [
    {
     "data": {
      "text/plain": [
       "(735253, 3)"
      ]
     },
     "execution_count": 21,
     "metadata": {},
     "output_type": "execute_result"
    }
   ],
   "source": [
    "df1.shape"
   ]
  },
  {
   "cell_type": "markdown",
   "id": "ad476273",
   "metadata": {},
   "source": [
    "# EDA"
   ]
  },
  {
   "cell_type": "code",
   "execution_count": 22,
   "id": "eca724bd",
   "metadata": {},
   "outputs": [],
   "source": [
    "df1['covid'] = df1['date'].apply(lambda x: 'post_covid' if x.year >= 2020 else 'pre-covid')"
   ]
  },
  {
   "cell_type": "code",
   "execution_count": 23,
   "id": "4f24e084",
   "metadata": {},
   "outputs": [
    {
     "data": {
      "image/png": "[encoded data removed]",
      "text/plain": [
       "<Figure size 432x288 with 1 Axes>"
      ]
     },
     "metadata": {},
     "output_type": "display_data"
    }
   ],
   "source": [
    "import seaborn as sns\n",
    "import matplotlib.pyplot as plt\n",
    "sns.set_theme(style=\"white\")\n",
    "sns.countplot(x=\"covid\", data=df1)\n",
    "\n",
    "plt.title(\"Tweet Frequency\")\n",
    "plt.xlabel(\"Tweets\")\n",
    "plt.ylabel(\"Frequency\")\n",
    "\n",
    "plt.show()"
   ]
  },
  {
   "cell_type": "markdown",
   "id": "9f9e1833",
   "metadata": {},
   "source": [
    "Here, we can see that tweets with #wfh (work from home) has increased significantly after covid, which also follows the trend."
   ]
  },
  {
   "cell_type": "code",
   "execution_count": 24,
   "id": "b28d148d",
   "metadata": {},
   "outputs": [],
   "source": [
    "df1['Word Count'] = df1['content'].apply(lambda x: len(str(x).split()))"
   ]
  },
  {
   "cell_type": "code",
   "execution_count": 25,
   "id": "f7f74694",
   "metadata": {},
   "outputs": [
    {
     "data": {
      "image/png": "[encoded data removed]",
      "text/plain": [
       "<Figure size 432x288 with 1 Axes>"
      ]
     },
     "metadata": {},
     "output_type": "display_data"
    }
   ],
   "source": [
    "a = sns.histplot(data=df1, x=\"Word Count\", kde=True)\n",
    "a = a.set(xlim=(0,60))\n",
    "\n",
    "plt.title(\"Words Per Tweet\")\n",
    "\n",
    "plt.show(a)"
   ]
  },
  {
   "cell_type": "markdown",
   "id": "1d454cff",
   "metadata": {},
   "source": [
    "The most number of tweets are around 10 to 20 words."
   ]
  },
  {
   "cell_type": "markdown",
   "id": "0242a31d",
   "metadata": {},
   "source": [
    "## Removing stopwords"
   ]
  },
  {
   "cell_type": "code",
   "execution_count": 26,
   "id": "b7ea3df9",
   "metadata": {},
   "outputs": [],
   "source": [
    "# from nltk.corpus import stopwords\n",
    "# stop = set(stopwords.words('english'))\n",
    "\n",
    "# df1['cleantext'] = df1['content'].apply(lambda x: ' '.join([word for word in x.split() if word.lower() not in (stop)]))"
   ]
  },
  {
   "cell_type": "markdown",
   "id": "b031f459",
   "metadata": {},
   "source": [
    " I am going to use pipeline from huggingface, for which I dont have to remove stopwords to analyze the tweets sentiment."
   ]
  },
  {
   "cell_type": "code",
   "execution_count": 27,
   "id": "68adbe4f",
   "metadata": {},
   "outputs": [
    {
     "data": {
      "text/html": [
       "<div>\n",
       "<style scoped>\n",
       "    .dataframe tbody tr th:only-of-type {\n",
       "        vertical-align: middle;\n",
       "    }\n",
       "\n",
       "    .dataframe tbody tr th {\n",
       "        vertical-align: top;\n",
       "    }\n",
       "\n",
       "    .dataframe thead th {\n",
       "        text-align: right;\n",
       "    }\n",
       "</style>\n",
       "<table border=\"1\" class=\"dataframe\">\n",
       "  <thead>\n",
       "    <tr style=\"text-align: right;\">\n",
       "      <th></th>\n",
       "      <th>date</th>\n",
       "      <th>content</th>\n",
       "      <th>hashtags</th>\n",
       "      <th>covid</th>\n",
       "      <th>Word Count</th>\n",
       "    </tr>\n",
       "  </thead>\n",
       "  <tbody>\n",
       "    <tr>\n",
       "      <th>0</th>\n",
       "      <td>2021-08-06</td>\n",
       "      <td>Powertec is here to help guide and advise you on recommended Wi Fi connectivity solution for student studying at home</td>\n",
       "      <td>['workingfromhome', 'WFH', 'homeoffice', 'homeschooling', 'COVID', 'lockdown2021', 'studyfromhome', 'homeschooling']</td>\n",
       "      <td>post_covid</td>\n",
       "      <td>20</td>\n",
       "    </tr>\n",
       "    <tr>\n",
       "      <th>1</th>\n",
       "      <td>2021-08-06</td>\n",
       "      <td>keep it casual while working from home writes No thanks Formals</td>\n",
       "      <td>['SidharthMalhotra', 'Casual', 'Bollywood', 'WFH']</td>\n",
       "      <td>post_covid</td>\n",
       "      <td>11</td>\n",
       "    </tr>\n",
       "    <tr>\n",
       "      <th>2</th>\n",
       "      <td>2021-08-06</td>\n",
       "      <td>Secretary team is sleeping in the job a usual</td>\n",
       "      <td>['wfh']</td>\n",
       "      <td>post_covid</td>\n",
       "      <td>9</td>\n",
       "    </tr>\n",
       "    <tr>\n",
       "      <th>3</th>\n",
       "      <td>2021-08-06</td>\n",
       "      <td>If you work from home it may be a good idea to establish a section of your home where you work and keep it separate from where you unwind if thats possible</td>\n",
       "      <td>['WFH']</td>\n",
       "      <td>post_covid</td>\n",
       "      <td>32</td>\n",
       "    </tr>\n",
       "    <tr>\n",
       "      <th>4</th>\n",
       "      <td>2021-08-06</td>\n",
       "      <td>Salesforce Apex Programming tutorial t</td>\n",
       "      <td>['superbadge', 'JN', 'JornalNacional', 'salesforcejobs', 'salesforceconsultant', 'SalesforceCPQ', 'lookingfornewjob', 'COVID19', 'lostjob', 'wfh']</td>\n",
       "      <td>post_covid</td>\n",
       "      <td>5</td>\n",
       "    </tr>\n",
       "  </tbody>\n",
       "</table>\n",
       "</div>"
      ],
      "text/plain": [
       "        date  \\\n",
       "0 2021-08-06   \n",
       "1 2021-08-06   \n",
       "2 2021-08-06   \n",
       "3 2021-08-06   \n",
       "4 2021-08-06   \n",
       "\n",
       "                                                                                                                                                       content  \\\n",
       "0                                        Powertec is here to help guide and advise you on recommended Wi Fi connectivity solution for student studying at home   \n",
       "1                                                                                              keep it casual while working from home writes No thanks Formals   \n",
       "2                                                                                                                Secretary team is sleeping in the job a usual   \n",
       "3  If you work from home it may be a good idea to establish a section of your home where you work and keep it separate from where you unwind if thats possible   \n",
       "4                                                                                                                       Salesforce Apex Programming tutorial t   \n",
       "\n",
       "                                                                                                                                             hashtags  \\\n",
       "0                                ['workingfromhome', 'WFH', 'homeoffice', 'homeschooling', 'COVID', 'lockdown2021', 'studyfromhome', 'homeschooling']   \n",
       "1                                                                                                  ['SidharthMalhotra', 'Casual', 'Bollywood', 'WFH']   \n",
       "2                                                                                                                                             ['wfh']   \n",
       "3                                                                                                                                             ['WFH']   \n",
       "4  ['superbadge', 'JN', 'JornalNacional', 'salesforcejobs', 'salesforceconsultant', 'SalesforceCPQ', 'lookingfornewjob', 'COVID19', 'lostjob', 'wfh']   \n",
       "\n",
       "        covid  Word Count  \n",
       "0  post_covid          20  \n",
       "1  post_covid          11  \n",
       "2  post_covid           9  \n",
       "3  post_covid          32  \n",
       "4  post_covid           5  "
      ]
     },
     "execution_count": 27,
     "metadata": {},
     "output_type": "execute_result"
    }
   ],
   "source": [
    "df1.head()"
   ]
  },
  {
   "cell_type": "code",
   "execution_count": 28,
   "id": "8dddabb3",
   "metadata": {},
   "outputs": [],
   "source": [
    "df1 = df1.drop(columns=['covid', 'Word Count'])"
   ]
  },
  {
   "cell_type": "markdown",
   "id": "f4c8d338",
   "metadata": {},
   "source": [
    "## Saving dataframe to csv"
   ]
  },
  {
   "cell_type": "code",
   "execution_count": 29,
   "id": "51844332",
   "metadata": {},
   "outputs": [],
   "source": [
    "df1.to_csv('cleanertweets.csv', index=False)"
   ]
  }
 ],
 "metadata": {
  "kernelspec": {
   "display_name": "conda_python3",
   "language": "python",
   "name": "conda_python3"
  },
  "language_info": {
   "codemirror_mode": {
    "name": "ipython",
    "version": 3
   },
   "file_extension": ".py",
   "mimetype": "text/x-python",
   "name": "python",
   "nbconvert_exporter": "python",
   "pygments_lexer": "ipython3",
   "version": "3.6.13"
  },
  "toc": {
   "base_numbering": 1,
   "nav_menu": {},
   "number_sections": true,
   "sideBar": true,
   "skip_h1_title": false,
   "title_cell": "Table of Contents",
   "title_sidebar": "Contents",
   "toc_cell": false,
   "toc_position": {},
   "toc_section_display": true,
   "toc_window_display": false
  },
  "varInspector": {
   "cols": {
    "lenName": 16,
    "lenType": 16,
    "lenVar": 40
   },
   "kernels_config": {
    "python": {
     "delete_cmd_postfix": "",
     "delete_cmd_prefix": "del ",
     "library": "var_list.py",
     "varRefreshCmd": "print(var_dic_list())"
    },
    "r": {
     "delete_cmd_postfix": ") ",
     "delete_cmd_prefix": "rm(",
     "library": "var_list.r",
     "varRefreshCmd": "cat(var_dic_list()) "
    }
   },
   "types_to_exclude": [
    "module",
    "function",
    "builtin_function_or_method",
    "instance",
    "_Feature"
   ],
   "window_display": false
  }
 },
 "nbformat": 4,
 "nbformat_minor": 5
}
