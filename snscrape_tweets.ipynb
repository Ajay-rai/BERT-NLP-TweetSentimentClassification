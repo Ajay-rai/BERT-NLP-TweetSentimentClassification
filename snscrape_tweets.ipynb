{
 "cells": [
  {
   "cell_type": "markdown",
   "id": "77c701ac",
   "metadata": {},
   "source": [
    "## snscrape library to extract tweets "
   ]
  },
  {
   "cell_type": "code",
   "execution_count": null,
   "id": "41f1bd7d",
   "metadata": {},
   "outputs": [],
   "source": [
    "# installation of snscrape library (developer version recommended)\n",
    "!pip3 install git+https://github.com/JustAnotherArchivist/snscrape.git"
   ]
  },
  {
   "cell_type": "markdown",
   "id": "bd747b68",
   "metadata": {},
   "source": [
    "## Importing libraries here"
   ]
  },
  {
   "cell_type": "code",
   "execution_count": 1,
   "id": "f4e40ee9",
   "metadata": {},
   "outputs": [],
   "source": [
    "#Importing necessary library\n",
    "import snscrape.modules.twitter as sntwitter\n",
    "import pandas as pd\n",
    "import itertools"
   ]
  },
  {
   "cell_type": "markdown",
   "id": "6ae1b627",
   "metadata": {},
   "source": [
    "## Scapping 1 million #wfh tweets"
   ]
  },
  {
   "cell_type": "code",
   "execution_count": 2,
   "id": "69821a9d",
   "metadata": {},
   "outputs": [],
   "source": [
    "df = pd.DataFrame(itertools.islice(sntwitter.TwitterSearchScraper('\"#wfh\"').get_items(),1000000))"
   ]
  },
  {
   "cell_type": "markdown",
   "id": "eed288b4",
   "metadata": {},
   "source": [
    "## saving to csv file"
   ]
  },
  {
   "cell_type": "code",
   "execution_count": 3,
   "id": "54867fd0",
   "metadata": {},
   "outputs": [],
   "source": [
    "df.to_csv('tweets.csv', index=False)"
   ]
  },
  {
   "cell_type": "markdown",
   "id": "3ae302a4",
   "metadata": {},
   "source": [
    "## Data exploration"
   ]
  },
  {
   "cell_type": "code",
   "execution_count": 4,
   "id": "ee156a5e",
   "metadata": {},
   "outputs": [
    {
     "data": {
      "text/html": [
       "<div>\n",
       "<style scoped>\n",
       "    .dataframe tbody tr th:only-of-type {\n",
       "        vertical-align: middle;\n",
       "    }\n",
       "\n",
       "    .dataframe tbody tr th {\n",
       "        vertical-align: top;\n",
       "    }\n",
       "\n",
       "    .dataframe thead th {\n",
       "        text-align: right;\n",
       "    }\n",
       "</style>\n",
       "<table border=\"1\" class=\"dataframe\">\n",
       "  <thead>\n",
       "    <tr style=\"text-align: right;\">\n",
       "      <th></th>\n",
       "      <th>url</th>\n",
       "      <th>date</th>\n",
       "      <th>content</th>\n",
       "      <th>renderedContent</th>\n",
       "      <th>id</th>\n",
       "      <th>user</th>\n",
       "      <th>replyCount</th>\n",
       "      <th>retweetCount</th>\n",
       "      <th>likeCount</th>\n",
       "      <th>quoteCount</th>\n",
       "      <th>...</th>\n",
       "      <th>media</th>\n",
       "      <th>retweetedTweet</th>\n",
       "      <th>quotedTweet</th>\n",
       "      <th>inReplyToTweetId</th>\n",
       "      <th>inReplyToUser</th>\n",
       "      <th>mentionedUsers</th>\n",
       "      <th>coordinates</th>\n",
       "      <th>place</th>\n",
       "      <th>hashtags</th>\n",
       "      <th>cashtags</th>\n",
       "    </tr>\n",
       "  </thead>\n",
       "  <tbody>\n",
       "    <tr>\n",
       "      <th>0</th>\n",
       "      <td>https://twitter.com/powertectelecom/status/142...</td>\n",
       "      <td>2021-08-06 05:54:10+00:00</td>\n",
       "      <td>Powertec is here to help guide and advise you ...</td>\n",
       "      <td>Powertec is here to help guide and advise you ...</td>\n",
       "      <td>1423522770596417536</td>\n",
       "      <td>{'username': 'powertectelecom', 'id': 16080524...</td>\n",
       "      <td>0</td>\n",
       "      <td>0</td>\n",
       "      <td>0</td>\n",
       "      <td>0</td>\n",
       "      <td>...</td>\n",
       "      <td>[{'previewUrl': 'https://pbs.twimg.com/media/E...</td>\n",
       "      <td>None</td>\n",
       "      <td>None</td>\n",
       "      <td>NaN</td>\n",
       "      <td>None</td>\n",
       "      <td>None</td>\n",
       "      <td>None</td>\n",
       "      <td>None</td>\n",
       "      <td>[workingfromhome, WFH, homeoffice, homeschooli...</td>\n",
       "      <td>None</td>\n",
       "    </tr>\n",
       "    <tr>\n",
       "      <th>1</th>\n",
       "      <td>https://twitter.com/htcity/status/142352007960...</td>\n",
       "      <td>2021-08-06 05:43:29+00:00</td>\n",
       "      <td>.@SidMalhotra keeps it casual while working fr...</td>\n",
       "      <td>.@SidMalhotra keeps it casual while working fr...</td>\n",
       "      <td>1423520079602327552</td>\n",
       "      <td>{'username': 'htcity', 'id': 125582800, 'displ...</td>\n",
       "      <td>0</td>\n",
       "      <td>1</td>\n",
       "      <td>1</td>\n",
       "      <td>0</td>\n",
       "      <td>...</td>\n",
       "      <td>[{'previewUrl': 'https://pbs.twimg.com/media/E...</td>\n",
       "      <td>None</td>\n",
       "      <td>None</td>\n",
       "      <td>NaN</td>\n",
       "      <td>None</td>\n",
       "      <td>[{'username': 'SidMalhotra', 'id': 950165300, ...</td>\n",
       "      <td>None</td>\n",
       "      <td>None</td>\n",
       "      <td>[SidharthMalhotra, Casual, Bollywood, WFH]</td>\n",
       "      <td>None</td>\n",
       "    </tr>\n",
       "    <tr>\n",
       "      <th>2</th>\n",
       "      <td>https://twitter.com/cpierce_aus/status/1423519...</td>\n",
       "      <td>2021-08-06 05:43:04+00:00</td>\n",
       "      <td>Secretary team is sleeping in the job as usual...</td>\n",
       "      <td>Secretary team is sleeping in the job as usual...</td>\n",
       "      <td>1423519977370394625</td>\n",
       "      <td>{'username': 'cpierce_aus', 'id': 115601702243...</td>\n",
       "      <td>0</td>\n",
       "      <td>0</td>\n",
       "      <td>1</td>\n",
       "      <td>0</td>\n",
       "      <td>...</td>\n",
       "      <td>[{'previewUrl': 'https://pbs.twimg.com/media/E...</td>\n",
       "      <td>None</td>\n",
       "      <td>None</td>\n",
       "      <td>NaN</td>\n",
       "      <td>None</td>\n",
       "      <td>None</td>\n",
       "      <td>None</td>\n",
       "      <td>None</td>\n",
       "      <td>[wfh]</td>\n",
       "      <td>None</td>\n",
       "    </tr>\n",
       "    <tr>\n",
       "      <th>3</th>\n",
       "      <td>https://twitter.com/toxicworkspaces/status/142...</td>\n",
       "      <td>2021-08-06 05:42:43+00:00</td>\n",
       "      <td>If you work from home, it may be a good idea t...</td>\n",
       "      <td>If you work from home, it may be a good idea t...</td>\n",
       "      <td>1423519889256505347</td>\n",
       "      <td>{'username': 'toxicworkspaces', 'id': 11586001...</td>\n",
       "      <td>1</td>\n",
       "      <td>0</td>\n",
       "      <td>0</td>\n",
       "      <td>0</td>\n",
       "      <td>...</td>\n",
       "      <td>None</td>\n",
       "      <td>None</td>\n",
       "      <td>None</td>\n",
       "      <td>1.423520e+18</td>\n",
       "      <td>{'username': 'toxicworkspaces', 'id': 11586001...</td>\n",
       "      <td>None</td>\n",
       "      <td>None</td>\n",
       "      <td>None</td>\n",
       "      <td>[WFH]</td>\n",
       "      <td>None</td>\n",
       "    </tr>\n",
       "    <tr>\n",
       "      <th>4</th>\n",
       "      <td>https://twitter.com/LINARI_TOKYO/status/142351...</td>\n",
       "      <td>2021-08-06 05:42:41+00:00</td>\n",
       "      <td>👩‍💻本日の会議出番ないので…\\n\\nマッサージガンしながら参加🤗\\n\\n💪(⁎⁍̴̛ᴗ⁍̴...</td>\n",
       "      <td>👩‍💻本日の会議出番ないので…\\n\\nマッサージガンしながら参加🤗\\n\\n💪(⁎⁍̴̛ᴗ⁍̴...</td>\n",
       "      <td>1423519877202026497</td>\n",
       "      <td>{'username': 'LINARI_TOKYO', 'id': 3184155445,...</td>\n",
       "      <td>0</td>\n",
       "      <td>0</td>\n",
       "      <td>2</td>\n",
       "      <td>0</td>\n",
       "      <td>...</td>\n",
       "      <td>[{'previewUrl': 'https://pbs.twimg.com/media/E...</td>\n",
       "      <td>None</td>\n",
       "      <td>None</td>\n",
       "      <td>NaN</td>\n",
       "      <td>None</td>\n",
       "      <td>None</td>\n",
       "      <td>None</td>\n",
       "      <td>None</td>\n",
       "      <td>[WFH, マッサージガン]</td>\n",
       "      <td>None</td>\n",
       "    </tr>\n",
       "  </tbody>\n",
       "</table>\n",
       "<p>5 rows × 27 columns</p>\n",
       "</div>"
      ],
      "text/plain": [
       "                                                 url  \\\n",
       "0  https://twitter.com/powertectelecom/status/142...   \n",
       "1  https://twitter.com/htcity/status/142352007960...   \n",
       "2  https://twitter.com/cpierce_aus/status/1423519...   \n",
       "3  https://twitter.com/toxicworkspaces/status/142...   \n",
       "4  https://twitter.com/LINARI_TOKYO/status/142351...   \n",
       "\n",
       "                       date  \\\n",
       "0 2021-08-06 05:54:10+00:00   \n",
       "1 2021-08-06 05:43:29+00:00   \n",
       "2 2021-08-06 05:43:04+00:00   \n",
       "3 2021-08-06 05:42:43+00:00   \n",
       "4 2021-08-06 05:42:41+00:00   \n",
       "\n",
       "                                             content  \\\n",
       "0  Powertec is here to help guide and advise you ...   \n",
       "1  .@SidMalhotra keeps it casual while working fr...   \n",
       "2  Secretary team is sleeping in the job as usual...   \n",
       "3  If you work from home, it may be a good idea t...   \n",
       "4  👩‍💻本日の会議出番ないので…\\n\\nマッサージガンしながら参加🤗\\n\\n💪(⁎⁍̴̛ᴗ⁍̴...   \n",
       "\n",
       "                                     renderedContent                   id  \\\n",
       "0  Powertec is here to help guide and advise you ...  1423522770596417536   \n",
       "1  .@SidMalhotra keeps it casual while working fr...  1423520079602327552   \n",
       "2  Secretary team is sleeping in the job as usual...  1423519977370394625   \n",
       "3  If you work from home, it may be a good idea t...  1423519889256505347   \n",
       "4  👩‍💻本日の会議出番ないので…\\n\\nマッサージガンしながら参加🤗\\n\\n💪(⁎⁍̴̛ᴗ⁍̴...  1423519877202026497   \n",
       "\n",
       "                                                user  replyCount  \\\n",
       "0  {'username': 'powertectelecom', 'id': 16080524...           0   \n",
       "1  {'username': 'htcity', 'id': 125582800, 'displ...           0   \n",
       "2  {'username': 'cpierce_aus', 'id': 115601702243...           0   \n",
       "3  {'username': 'toxicworkspaces', 'id': 11586001...           1   \n",
       "4  {'username': 'LINARI_TOKYO', 'id': 3184155445,...           0   \n",
       "\n",
       "   retweetCount  likeCount  quoteCount  ...  \\\n",
       "0             0          0           0  ...   \n",
       "1             1          1           0  ...   \n",
       "2             0          1           0  ...   \n",
       "3             0          0           0  ...   \n",
       "4             0          2           0  ...   \n",
       "\n",
       "                                               media retweetedTweet  \\\n",
       "0  [{'previewUrl': 'https://pbs.twimg.com/media/E...           None   \n",
       "1  [{'previewUrl': 'https://pbs.twimg.com/media/E...           None   \n",
       "2  [{'previewUrl': 'https://pbs.twimg.com/media/E...           None   \n",
       "3                                               None           None   \n",
       "4  [{'previewUrl': 'https://pbs.twimg.com/media/E...           None   \n",
       "\n",
       "  quotedTweet inReplyToTweetId  \\\n",
       "0        None              NaN   \n",
       "1        None              NaN   \n",
       "2        None              NaN   \n",
       "3        None     1.423520e+18   \n",
       "4        None              NaN   \n",
       "\n",
       "                                       inReplyToUser  \\\n",
       "0                                               None   \n",
       "1                                               None   \n",
       "2                                               None   \n",
       "3  {'username': 'toxicworkspaces', 'id': 11586001...   \n",
       "4                                               None   \n",
       "\n",
       "                                      mentionedUsers coordinates place  \\\n",
       "0                                               None        None  None   \n",
       "1  [{'username': 'SidMalhotra', 'id': 950165300, ...        None  None   \n",
       "2                                               None        None  None   \n",
       "3                                               None        None  None   \n",
       "4                                               None        None  None   \n",
       "\n",
       "                                            hashtags cashtags  \n",
       "0  [workingfromhome, WFH, homeoffice, homeschooli...     None  \n",
       "1         [SidharthMalhotra, Casual, Bollywood, WFH]     None  \n",
       "2                                              [wfh]     None  \n",
       "3                                              [WFH]     None  \n",
       "4                                     [WFH, マッサージガン]     None  \n",
       "\n",
       "[5 rows x 27 columns]"
      ]
     },
     "execution_count": 4,
     "metadata": {},
     "output_type": "execute_result"
    }
   ],
   "source": [
    "df.head()"
   ]
  },
  {
   "cell_type": "code",
   "execution_count": 6,
   "id": "cd7e8094",
   "metadata": {},
   "outputs": [
    {
     "data": {
      "text/plain": [
       "(789352, 27)"
      ]
     },
     "execution_count": 6,
     "metadata": {},
     "output_type": "execute_result"
    }
   ],
   "source": [
    "df.shape"
   ]
  },
  {
   "cell_type": "code",
   "execution_count": 11,
   "id": "c01e0451",
   "metadata": {},
   "outputs": [
    {
     "data": {
      "text/plain": [
       "0    Although some are WFH and others are in the of...\n",
       "1    Enhance your #WFH days with simple exercises! ...\n",
       "2    Recently, I put a poll asking how many monitor...\n",
       "3    Day 2 - into my cycle post the #azvaccine.  St...\n",
       "4    With more people #WFH it's great to be able to...\n",
       "Name: content, dtype: object"
      ]
     },
     "execution_count": 11,
     "metadata": {},
     "output_type": "execute_result"
    }
   ],
   "source": [
    "df['content'].head()"
   ]
  },
  {
   "cell_type": "code",
   "execution_count": 15,
   "id": "dcaf81d9",
   "metadata": {},
   "outputs": [],
   "source": [
    "pd.set_option('display.max_colwidth', None)"
   ]
  },
  {
   "cell_type": "code",
   "execution_count": 16,
   "id": "6d863e54",
   "metadata": {},
   "outputs": [
    {
     "data": {
      "text/plain": [
       "0    Although some are WFH and others are in the office, the RSM Australia team wore their favourite denim to celebrate Jeans for Genes Day and the amazing work @jeansforgenesau does! ➡️   https://t.co/XESmWI48Gd\\n#JeansforGenes #Fundraiser #Moora #WFH https://t.co/PfWJ7RzNHJ\n",
       "Name: content, dtype: object"
      ]
     },
     "execution_count": 16,
     "metadata": {},
     "output_type": "execute_result"
    }
   ],
   "source": [
    "df['content'].head(1)"
   ]
  },
  {
   "cell_type": "code",
   "execution_count": 17,
   "id": "467f4520",
   "metadata": {},
   "outputs": [
    {
     "data": {
      "text/plain": [
       "0    Although some are WFH and others are in the office, the RSM Australia team wore their favourite denim to celebrate Jeans for Genes Day and the amazing work @jeansforgenesau does! ➡️   fundraise.jeansforgenes.org.au/double2021\\n#JeansforGenes #Fundraiser #Moora #WFH https://t.co/PfWJ7RzNHJ\n",
       "Name: renderedContent, dtype: object"
      ]
     },
     "execution_count": 17,
     "metadata": {},
     "output_type": "execute_result"
    }
   ],
   "source": [
    "df['renderedContent'].head(1)"
   ]
  }
 ],
 "metadata": {
  "kernelspec": {
   "display_name": "conda_python3",
   "language": "python",
   "name": "conda_python3"
  },
  "language_info": {
   "codemirror_mode": {
    "name": "ipython",
    "version": 3
   },
   "file_extension": ".py",
   "mimetype": "text/x-python",
   "name": "python",
   "nbconvert_exporter": "python",
   "pygments_lexer": "ipython3",
   "version": "3.6.13"
  },
  "toc": {
   "base_numbering": 1,
   "nav_menu": {},
   "number_sections": true,
   "sideBar": true,
   "skip_h1_title": false,
   "title_cell": "Table of Contents",
   "title_sidebar": "Contents",
   "toc_cell": false,
   "toc_position": {},
   "toc_section_display": true,
   "toc_window_display": false
  },
  "varInspector": {
   "cols": {
    "lenName": 16,
    "lenType": 16,
    "lenVar": 40
   },
   "kernels_config": {
    "python": {
     "delete_cmd_postfix": "",
     "delete_cmd_prefix": "del ",
     "library": "var_list.py",
     "varRefreshCmd": "print(var_dic_list())"
    },
    "r": {
     "delete_cmd_postfix": ") ",
     "delete_cmd_prefix": "rm(",
     "library": "var_list.r",
     "varRefreshCmd": "cat(var_dic_list()) "
    }
   },
   "types_to_exclude": [
    "module",
    "function",
    "builtin_function_or_method",
    "instance",
    "_Feature"
   ],
   "window_display": false
  }
 },
 "nbformat": 4,
 "nbformat_minor": 5
}
